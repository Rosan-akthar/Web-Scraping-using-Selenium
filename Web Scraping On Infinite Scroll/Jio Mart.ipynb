{
 "cells": [
  {
   "cell_type": "markdown",
   "id": "2aa2cb56",
   "metadata": {},
   "source": [
    "# Web Scraping in An infinite Scroll Webpage Using Selenium"
   ]
  },
  {
   "cell_type": "markdown",
   "id": "0d459f18",
   "metadata": {},
   "source": [
    "## Importing all the necessary library"
   ]
  },
  {
   "cell_type": "code",
   "execution_count": 1,
   "id": "d92d7cf9",
   "metadata": {},
   "outputs": [],
   "source": [
    "from selenium.webdriver import Chrome,Edge,Firefox,Safari\n",
    "from selenium.webdriver.chrome.service import Service\n",
    "from selenium.webdriver.common.action_chains import ActionChains\n",
    "from selenium.webdriver.common.by import By\n",
    "from selenium.webdriver.common.keys import Keys\n",
    "from selenium.webdriver.support.ui import WebDriverWait\n",
    "from selenium.webdriver.support import expected_conditions as EC\n",
    "import time\n",
    "import pandas as pd"
   ]
  },
  {
   "cell_type": "markdown",
   "id": "71ed12fc",
   "metadata": {},
   "source": [
    "## Getting the Search input From the User"
   ]
  },
  {
   "cell_type": "code",
   "execution_count": 2,
   "id": "53ec7904",
   "metadata": {},
   "outputs": [
    {
     "name": "stdout",
     "output_type": "stream",
     "text": [
      "Enter the Search Word:Biscuits\n",
      "Biscuits\n"
     ]
    }
   ],
   "source": [
    "Search_word = input('Enter the Search Word:')\n",
    "print(Search_word)"
   ]
  },
  {
   "cell_type": "markdown",
   "id": "650d4dff",
   "metadata": {},
   "source": [
    "## Webpage Url and Driver Path"
   ]
  },
  {
   "cell_type": "code",
   "execution_count": 3,
   "id": "4e1509a1",
   "metadata": {},
   "outputs": [],
   "source": [
    "url = \"https://www.jiomart.com/\"\n",
    "driver_path = Service(\"C:\\Program Files (x86)\")\n",
    "\n",
    "browser = Chrome(service=driver_path)\n",
    "\n",
    "browser.get(url)"
   ]
  },
  {
   "cell_type": "markdown",
   "id": "98c27476",
   "metadata": {},
   "source": [
    "## Entering the Search input in the Search Bar"
   ]
  },
  {
   "cell_type": "code",
   "execution_count": 4,
   "id": "685c434f",
   "metadata": {},
   "outputs": [],
   "source": [
    "Search_field_id = \"autocomplete-0-input\"\n",
    "\n",
    "Search_box = browser.find_element(By.ID,Search_field_id)\n",
    "Search_box.clear()\n",
    "Search_box.send_keys(Search_word)\n",
    "Search_box.send_keys(Keys.ENTER)\n"
   ]
  },
  {
   "cell_type": "markdown",
   "id": "e0d0ed37",
   "metadata": {},
   "source": [
    "## Performing Scrolling Action in the Webpage"
   ]
  },
  {
   "cell_type": "code",
   "execution_count": 5,
   "id": "03e450cd",
   "metadata": {},
   "outputs": [],
   "source": [
    "time.sleep(3)\n",
    "\n",
    "for i in range(15):\n",
    "    Foot_elem = browser.find_element(By.XPATH,\"//div[@class='footer-top-main']\")\n",
    "    action = ActionChains(browser)\n",
    "    action.move_to_element(Foot_elem).send_keys(Keys.PAGE_UP).perform()\n",
    "    time.sleep(5)\n"
   ]
  },
  {
   "cell_type": "markdown",
   "id": "a5678f16",
   "metadata": {},
   "source": [
    "## Scraping all the Necessary Items from Webpage"
   ]
  },
  {
   "cell_type": "code",
   "execution_count": 6,
   "id": "3d313766",
   "metadata": {},
   "outputs": [
    {
     "name": "stdout",
     "output_type": "stream",
     "text": [
      "['Britannia Jimjam Sandwich Biscuits 138 g', 'Britannia Bourbon The Original Cream Biscuits 150 g', 'Parle-G Original Glucose Biscuits 800 g', 'Britannia Tiger Krunch Chocochips Biscuits Combo Pack 400 g', 'Parle Monaco Salted Biscuits 200 g', 'Parle Hide & Seek 4 Fun Flavours Choco Chip Creme Sandwich Biscuits 400 g', \"Sunfeast Mom's Magic Cashew & Almond Biscuits 584 g\", 'Britannia NutriChoice Hi-Fibre Digestive Biscuits 1 kg', 'Britannia 50-50 Maska Chaska Biscuits 300 g', 'Parle-G Gold Biscuits 1 kg', 'Parle Krack Jack Biscuits 400 g', 'Britannia Classic Little Hearts Biscuits 75 g', 'Britannia Milk Bikis Biscuits 500 g', 'Sunfeast Dark Fantasy Original Choco Filled Cookie 300 g', 'Britannia Good Day Cashew Biscuits 1 Kg', 'Cadbury Oreo Original Chocolatey Sandwich Biscuits 481.25 g', 'Parle Hide & Seek Choco Rolls 250 g', 'Cadbury Oreo Choco Creme Biscuits 288.75 g', 'Parle Milano Hide & Seek Choco Filled Cookies 250 g', 'Parle Festive Delights Black Bourbon Choco Creme Sandwich Biscuits 300 g', 'Parle Monaco Pizza Masala Crunch Biscuits 311 g', 'Unibic Sugar Free Butter Cookies 75 g', 'Parle Krackjack Butter Masala Biscuits 307.8 g', 'Pickwick Strawberry Creamy Wafer Biscuits 75 g', 'Parle Platina Hide & Seek Black Bourbon Vanilla Cream Biscuits 300 g', 'Amul Premium Butter Cookies 200 g', 'Mayora Malkist Cheese Flavoured Cracker Biscuits 144 g', 'Sunfeast Dark Fantasy Vanilla Creme Biscuits 100 g', 'Cadbury Oreo Original Vanilla Creme Biscuits (Family Pack) 288.75 g', 'Dukes Bourbon Premium Sandwich Biscuits 135 g', 'Britannia Bourbon 100 g (Buy 4 Get 1)', 'Parle Monaco Classic Regular Salted Biscuits 400 g', 'Dukes Waffy Choco Wafer Rolls 250 g', 'Parle Milk Shakti Biscuits 350 g', 'Britannia 50-50 Potazos Masti Masala Spicy Flavoured Crisps 71.5 g', 'Parle Fab! Bourbon Chocolate Sandwich Biscuits 500 g', 'Dukes Waffy Strawberry Wafers 60 g', 'Britannia Pure Magic Chocolush Choco Filled Cookie 75 g', 'Mayora Malkist Chocolate Cracker Biscuits 144 g', 'Unibic Choco Kiss Cookies 250 g', 'Parle Krack Jack Crackers 200 g', 'Dukes Waffy Chocolate Wafers 60 g', 'Cadbury Oreo Choco Creme Biscuits 481.25 g', 'Cadbury Chocobakes Chocofilled Cookies 300 g', 'Dukes Masala Nibbles 150 g', 'Dukes Waffy Vanilla Wafers 60 g', 'Unibic Choco Nut Cookies 500 g (5 x 100 g)', 'Britannia Jimjam Cream Biscuits 92 g (Buy 4 Get 1)', 'Britannia Jimjam Cream Biscuits 92 g (Buy 4 Get 1)', 'Dukes Waffy Orange Wafers 60 g', 'Britannia Milk Bikis Milky Sandwich Biscuits 200 g', 'Dukes Waffy Pineapple Wafers 60 g', 'Cadbury Oreo Original Chocolatey Sandwich Biscuits 918.75 g', 'Unibic Snappers Indi Spice Potato Crackers 75 g (Pack of 4)', 'Dukes Nibbles Salted Crackers 150 g', 'Cadbury Oreo Original Creme Biscuits 113.75 g', 'Britannia Pure Magic Chocolush Cookies 300 g', 'Dukes Waffy Strawberry Wafer Rolls 250 g', 'Britannia 50-50 Maska Chaska Biscuits 105 g', 'Unibic Snappers Cream n Onion Potato Crackers 75 g (Pack of 4)', 'Priyagold Snacks Zig Zag Biscuits 150 g', 'Parle Platina Hide & Seek Milano Centre Filled Cream Biscuits 75 g', 'Priyagold CNC Sweet & Salty Biscuits 150 g', 'Britannia Treat Strawberry Creme Wafers Biscuits 55 g', 'Parle Fab Bourbon Chocolate Cream Biscuits 150 g', 'Parle Monaco Classic Cheeslings 150 g', 'Britannia Milk Bikis Milk Sandwich Biscuits 100 g', 'Bonn Americana Coconut Cookies 107gms ( Pack of 10)', 'Dukes Creme 4 Fun Cream Biscuits 450 g (Pack of 3)', 'Sunfeast Dark Fantasy Bourbon Chocolate Cream Biscuits 150 g (Buy 3 Get 1 Extra)', 'Bonn Americana Premium Sandwich Bourbonn Cookies Family Pack 1kg', 'Cadbury Oreo Strawberry Creme Biscuits 113.75 g', 'Dukes Waffy Creamy & Crunchy Wafers Assorted Pack 75 g (Pack of 6)', 'Desi Ghee Atta Biscuits | Premium Handmade Cookies | 100% Pure Desi Ghee Used | 300 Gram', 'Britannia Jimjam Cream Biscuits 92 g', 'Britannia Treat Orange Creme Wafers Biscuits 55 g', 'Dukes Sour Cream & Onion Nibbles 150 g', 'Britannia Treat Vanilla Creme Wafer Biscuit 55 g', 'Parle Monaco Classic Cheeslings 300 g', 'Parle Fab Jam-In Cream Biscuits 150 g', 'Sunfeast Nice Sugar Sprinkled Biscuits 142.8 g', 'Parle Fab Jam-In Mixed Fruit Sandwich Biscuits 495 g', 'Unibic Snappers Potato Crackers Achari Mango Biscuits 300 g', 'MidBreak - Sugar Free Atta Biscuits | Sugar Free Atta Cookies | Atta Biscuits | Premium Handmade Cookies | 300 Gm | Pack of 1', 'Momsy 100% Natural and Premium California Almonds| Quality Badam Giri| - Badam - Bold Size (250gm)', 'Momsy Premium Ajwain Multigrain Biscuit | High Fibre Digestive Cookies | No Refined Sugar (450gm)', 'Cadbury Bournvita Biscuits Tiffin Pack 250 g (Pack of 9)', 'Patanjali Doodh Biscuits 300 g', 'Patanjali Doodh Biscuits 800 g', 'Parle Hide & Seek Choco Chip Creme Sandwich Biscuits 100 g', 'Sunfeast Dark Fantasy Coffee Fills Cookie 75 g', 'Dukes Creme 4 Fun Strawberry Sandwich Biscuits 150 g', 'Momsy Premium Atta Biscuits Desi Ghee Pure Handmade Aata Biscuits And Cookies (450gm)', 'Orion Strawberry Choco Pie - 24 Cookies (Pack of 12X2)', 'Mohan Impex 1 kg Corn Flour Powder |Maize Flour| Makke Kaa Atta [HoReCa Pack]', 'Dukes Ranch Crackers 150 g', 'Momsy Premium Quality Handmade Spacial Suji Elaichi Rusk (250gm)', 'Pickwick Chocolate Creamy Wafer Biscuit 75 g', 'MidBreak - Sugar Free Multigrain Cookies | Multigrain Biscuits | Sugar Free Multigrain Biscuits | Premium Handmade Cookies | 300 Gm | Pack of 1', 'Momsy Premium Handmade Fruit Jam Cookies Eggless & No Artificial Preservatives (450gm)', 'Open Secret Choco Almond Healthy Cookies Biscuits-Pack of 24 - 420gm', \"BAKITO'S Atta Cookies\", 'Snackible Dipsters Biscuit Sticks with Chocolatey Dip (Pack of 12) 12x25gm', 'Momsy Premium Roasted & Salted Jumbo Size Pistachios Nut | Pista Dry Fruit | Super Crunchy (250gm)', 'Snac tac Orange Wafers Biscuits 75 g', 'Go Choco Weelz - Crunchy Chocolate Coated Biscuit - 360g (36g x Pack of 10) -Pack of 2', 'MidBreak - Fruit Kaju Biscuits| Fruit Cashew Cookies| Handmade Cookies| 350 Gm x 1| Pack of 1', 'Pickwick Strawberry Wafer Rolls 150 g', 'Parle Monaco Classic Regular Biscuits 700 g', 'Mohan Impex 300 gm Desiccated Coconut Powder| Nariyal Burada (1 x 300 gm) [HoReCa Pack]', 'Mohan Impex Cocoa Powder 500 gm [HoReCa Pack]', 'Mid Break - Dry Fruit Cookies | 100% EMid Break - Dry Fruit Cookies| Eggless Cookies| Biscuits| Handmade Cookies| 300 gm x 1| Pack of 1ggless Cookies | Dry Fruit Biscuits | Handmade Cookies | 300 gm x 1 | Pack of 1', 'Parle Fab Jam In Strawberry Cream Biscuits 150 g', 'Bonn Americana Premium Chocolate Bourbonn Biscuits 150 g (Pack of 8-150g Each)', 'Snactac Assorted Wafer Biscuits 450 g (Pack of 6)', 'Momsy Premium Atta Biscuits Desi Ghee Pure Handmade Aata Biscuits And Cookies (950gm)', 'Manna Millet Bytes Multigrain Wafers with Millets | Treat Waffy of Orange, Choclate, Vanilla Flavour | Goodness of Oats, Jowar & Foxtail Millets (Combo Pack of 3)', 'Momsy Premium Homemade Salt N Pepper Banana Chips - Crispy Banana Chips (950gm)', 'Mohan Impex Monosodium Glutamate(MSG) Ajinomoto Chinese Taste Enhancer Salt, 500 gm (Pack of 1)', 'Parle Krack Jack Butter Masala Biscuits 100 g', 'Pickwick Vanilla Creamy Wafer Biscuits 110 g', 'Mohan Impex 1kg Desiccated Coconut Powder| Nariyal Burada| [HoReCa Pack]', 'UNIBIC Cookies, Cashew Badam Cookies, 500g | Kaju Biscuit.', 'Amul Nuts & Raisin Cookies 50 g (Pack)', 'Open Secret Choco Almond Cookies Box Pack Combo - Pack of 6', \"BAKITO'S JEERA Biscuits\", 'Momsy Premium Multigrain Strawberry Fills (Made with Oats, Corn, Wheat, Rice, Zero Cholesterol 250gm', 'Manna Millet Bytes Multigrain Wafers with Millets | Treat Waffy of Orange Flavour | Goodness of Oats, Jowar & Foxtail Millets (Pack of 3)', \"Murthy's Bakery Shrewsbury Biscuits, 20 Pieces\", 'MidBreak - Jeera Biscuits | Jeera Cookies | Cummins Biscuits | Cummins Cookies | 25% Less Fat | Premium Handmade Cookies | 300 Gms | Pack of 1', 'Orion Mango Choco Pie Pack of 3X12, Choco 36 Pies', 'Pickwick Strawberry & Chocolate Wafer Rolls 150 g (Pack of 3)', 'Open Secret Celebration Gift Box', 'Mayora Go Choco Weelz Choco Coated Biscuit 360 g', \"BAKITO'S Handmade Premium Wheat Grain Fruit Cake Rusk, 300 Grams\", 'MidBreak - Kaju Pista Biscuits | Kaju Pista Cookies | Cashew Biscuits | Cashew Pistachio Cookies | Premium Handmade Cookies | 350 Gm | Pack of 1', 'Orion Chocopie Combo - Original Choco Pie - 12X2, Strawberry Choco Pie 12X1, Mango Choco Pie 12X1', 'GRABOLL Handmade Cookies Tutti Fruity Gourmet with Goodness of Cow Ghee 200 gram', 'Mohan Impex 1kg Custard Powder- Vanilla [HoReCa Pack]', 'Wheafree Gluten Free Butter Masala Biscuits (Pack of 3) | Tasty, Crunchy and Flavoured Biscuits | Best Tea time Snacks | Nutritious | 360g | 100% Vegetarian and Gluten Free Ingredients', 'Pickwick Strawberry Creamy Wafer Biscuits 150 g', \"BAKITO'S AJWAIN BISCUIT\", 'Open Secret Celebration Gift Box', 'Manna Millet Bytes Multigrain Wafers with Millets | Treat Waffy of Chocolate Flavour | Goodness of Oats, Jowar & Foxtail Millets (Pack of 3)', 'GRAINIC Organic Brown Rice Cakes I Lentils and Flaxseed', 'Parle Fab! Bourbon Chocolate Sandwich Biscuits 500 g Pack of 2', 'Parle-G Gold Biscuits 2 kg', 'Open Secret Assorted Cookies - Peanut Butter, Choco Almond, Cashew Pack of 24 Cookies (12 x2)', 'Momsy Premium Dry Amla Candy | Dry Berries | Premium Sweet Indian Gooseberry (450gm)', 'Momsy Premium Bambaiya Mukhwas Mix Saunf mukhwas [Jar Pack]| After Meal Mukhwas (200gm)', 'GRABOLL Handmade Cookies Chocolate Chip Gourmet with Goodness of Cow Ghee 200 Gram', 'Pickwick Orange Creamy Wafer Biscuits 150 g', 'Parle Happy Happy Choco-Chip Cookies 400 g Pack of 2', 'Bazic Bajra Coconut Coin Cookies', 'Mohan Impex 1kg Custard Powder- Vanilla (Pack of 2) |2 x 1kg| [HoReCa Pack]', \"BAKITO'S Multigrain Sugar Free Cookies\", 'Momsy Premium Quality Handmade Spacial Butter Suji Elaichi Rusk (450gm)', 'Sapphire Luxury Wafer Rolls Chocolate, 300 g', 'MidBreak - Desi Ghee Atta Biscuits| Handmade Cookies| Atta Biscuits| 300 Gram Each| Pack of 2', 'Grainic Organic Rice Cakes (Assorted Pack of 4)', 'Pickwick Pineapple Creamy Wafer Biscuits 150 g', 'GRABOLL Handmade Cookies Butter Kaju Gourmet with Goodness of Cow Ghee, 200 gram', 'Pickwick Chocolate Creamy Wafer Biscuits 150 g', \"Vasu'G Gur Atta Biscuits | Pure Handmade Jaggery Atta Biscuits | 500gm | Crunchy Atta Biscuit |\", 'Sarwar Panko Bread Crumbs 500 Grams.', 'Mohan Impex 300 gm Desiccated Coconut Powder| Nariyal Burada [ Pack of 2 ] (2x 300 gm) [HoReCa Pack]', 'Honey almond and chocolate cookies 265 g', 'Momsy Premium Ajwain Multigrain Biscuit| High Fibre Digestive Cookies| No Refined Sugar (950gm)', 'Sapphire Luxury Wafer Rolls Vanilla, 300 g', 'Momsy Premium Multigrain Choco Fills (Made with Oats, Corn, Wheat, Rice, Zero Cholesterol (250gm)', 'Jowar Ajwain Coin Cookies', 'Momsy Premium Amritsari Aam Papad With Masala (Dried Spiced Raw Mango Slices) (200gm)', \"Vasu'G Elaichi Atta Biscuits | Pure Handmade Cardamom Atta Biscuits | 500gm | Crunchy Atta Biscuits |\", \"Vasu'G No Added Sugar Atta Biscuits | Pure Handmade Atta Biscuits | 400gm | Crunchy Atta Biscuits\", 'Unibic Cookies-Choco Nut Cookies Biscuit 500g Pack of 1', 'Jowar Nan Khatai', 'Momsy Premium Potato Chips| Aloo Chips| Salty Wafers| Aalu Chips (Crunchy and Crispy) (950gm)', \"BAKITO'S Atta Sugar Free Cookies\", 'Momsy Premium Dry Amla Candy| Dry Berries| Premium Sweet Indian Gooseberry (950gm)', 'Jacker Chocolate Wafer Cube 100g, Smooth & Chocolate Crunchy Layered Wafers (Pack of 3)']\n",
      "['₹35.00', '₹40.00', '₹90.00', '₹140.00', '₹40.00', '₹150.00', '₹130.00', '₹199.00', '₹90.00', '₹140.00', '₹80.00', '₹30.00', '₹90.00', '₹170.00', '₹250.00', '₹159.00', '₹170.00', '₹85.00', '₹180.00', '₹150.00', '₹130.00', '₹60.00', '₹130.00', '₹60.00', '₹150.00', '₹78.00', '₹50.00', '₹35.00', '₹99.00', '₹36.00', '₹80.00', '₹180.00', '₹50.00', '₹25.00', '₹160.00', '₹50.00', '₹35.00', '₹60.00', '₹160.00', '₹40.00', '₹50.00', '₹159.00', '₹170.00', '₹60.00', '₹50.00', '₹200.00', '₹50.00', '₹50.00', '₹50.00', '₹300.00', '₹160.00', '₹60.00', '₹35.00', '₹140.00', '₹180.00', '₹30.00', '₹160.00', '₹45.00', '₹40.00', '₹45.00', '₹50.00', '₹35.00', '₹80.00', '₹30.00', '₹200.00', '₹300.00', '₹35.00', '₹170.00', '₹25.00', '₹55.00', '₹60.00', '₹50.00', '₹140.00', '₹35.00', '₹25.00', '₹180.00', '₹160.00', '₹210.00', '₹799.00', '₹599.00', '₹75.00', '₹35.00', '₹125.00', '₹30.00', '₹40.00', '₹35.00', '₹499.00', '₹360.00', '₹299.00', '₹60.00', '₹399.00', '₹68.00', '₹230.00', '₹599.00', '₹420.00', '₹269.00', '₹300.00', '₹599.00', '₹50.00', '₹300.00', '₹190.00', '₹165.00', '₹120.00', '₹199.00', '₹399.00', '₹190.00', '₹35.00', '₹240.00', '₹300.00', '₹799.00', '₹147.00', '₹799.00', '₹299.00', '₹50.00', '₹85.00', '₹400.00', '₹21.00', '₹630.00', '₹269.00', '₹299.00', '₹147.00', '₹350.00', '₹170.00', '₹540.00', '₹350.00', '₹150.00', '₹279.00', '₹180.00', '₹760.00', '₹130.00', '₹299.00', '₹210.00', '₹75.00', '₹269.00', '₹350.00', '₹147.00', '₹180.00', '₹320.00', '₹285.00', '₹420.00', '₹499.00', '₹299.00', '₹130.00', '₹75.00', '₹199.00', '₹598.00', '₹269.00', '₹599.00', '₹300.00', '₹340.00', '₹730.00', '₹75.00', '₹130.00', '₹75.00', '₹437.00', '₹245.00', '₹398.00', '₹550.00', '₹899.00', '₹300.00', '₹299.00', '₹199.00', '₹399.00', '₹437.00', '₹437.00', '₹199.00', '₹899.00', '₹269.00', '₹799.00', '₹360.00']\n",
      "['₹25.00', '₹30.00', '₹78.00', '₹70.00', '₹36.00', '₹75.00', '₹86.00', '₹145.00', '₹78.00', '₹120.00', '₹70.00', '₹24.00', '₹75.00', '₹110.00', '₹225.00', '₹105.00', '₹85.00', '₹59.00', '₹90.00', '₹75.00', '₹65.00', '₹30.00', '₹65.00', '₹30.00', '₹75.00', '₹72.00', '₹33.00', '₹17.00', '₹59.00', '₹18.00', '₹100.00', '₹70.00', '₹90.00', '₹25.00', '₹20.00', '₹80.00', '₹25.00', '₹28.00', '₹40.00', '₹80.00', '₹37.00', '₹25.00', '₹105.00', '₹85.00', '₹40.00', '₹25.00', '₹100.00', '₹100.00', '₹100.00', '₹25.00', '₹46.00', '₹25.00', '₹200.00', '₹80.00', '₹40.00', '₹32.00', '₹93.00', '₹90.00', '₹27.00', '₹80.00', '₹22.00', '₹26.00', '₹22.00', '₹25.00', '₹23.00', '₹74.00', '₹27.00', '₹169.00', '₹70.00', '₹120.00', '₹149.00', '₹32.00', '₹145.00', '₹160.00', '₹23.00', '₹27.00', '₹40.00', '₹25.00', '₹126.00', '₹32.00', '₹23.00', '₹90.00', '₹80.00', '₹189.00', '₹399.00', '₹280.00', '₹69.00', '₹32.00', '₹95.00', '₹27.00', '₹37.00', '₹26.00', '₹266.00', '₹306.00', '₹164.00', '₹40.00', '₹175.00', '₹34.00', '₹199.00', '₹270.00', '₹367.00', '₹199.00', '₹244.00', '₹499.00', '₹25.00', '₹150.00', '₹170.00', '₹82.00', '₹90.00', '₹158.00', '₹299.00', '₹168.00', '₹32.00', '₹189.00', '₹150.00', '₹449.00', '₹135.00', '₹475.00', '₹188.00', '₹25.00', '₹42.00', '₹299.00', '₹300.00', '₹19.00', '₹535.00', '₹199.00', '₹199.00', '₹135.00', '₹260.00', '₹150.00', '₹459.00', '₹100.00', '₹280.00', '₹49.00', '₹219.00', '₹164.00', '₹646.00', '₹119.00', '₹224.00', '₹189.00', '₹69.00', '₹199.00', '₹280.00', '₹135.00', '₹150.00', '₹319.00', '₹226.00', '₹367.00', '₹299.00', '₹199.00', '₹119.00', '₹69.00', '₹300.00', '₹125.00', '₹350.00', '₹199.00', '₹275.00', '₹295.00', '₹275.00', '₹464.00', '₹69.00', '₹119.00', '₹69.00', '₹327.00', '₹205.00', '₹248.00', '₹373.00', '₹460.00', '₹295.00', '₹199.00', '₹125.00', '₹215.00', '₹327.00', '₹327.00', '₹380.00', '₹125.00', '₹460.00', '₹199.00', '₹425.00', '₹355.00']\n"
     ]
    }
   ],
   "source": [
    "Product_name  = browser.find_elements(By.XPATH,\"//div[@class='plp-card-details-name line-clamp jm-body-xs jm-fc-primary-grey-80']\")\n",
    "Product_Price = browser.find_elements(By.XPATH,'//span[@class=\"jm-body-xxs jm-fc-primary-grey-60 line-through jm-mb-xxs\"]')\n",
    "Product_Discount_price = browser.find_elements(By.XPATH,\"//span[@class='jm-heading-xxs jm-mb-xxs']\")\n",
    "\n",
    "Product_name_list = []\n",
    "Product_price_list = []\n",
    "Product_Discount_list = []\n",
    "\n",
    "\n",
    "for name in Product_name:\n",
    "    Product_name_list.append(name.text)\n",
    "\n",
    "for price in Product_Price:\n",
    "    Product_price_list.append(price.text)\n",
    "    \n",
    "for D_Price in Product_Discount_price:\n",
    "    Product_Discount_list.append(D_Price.text)\n",
    "    \n",
    "    \n",
    "print(Product_name_list)\n",
    "print(Product_price_list)\n",
    "print(Product_Discount_list)"
   ]
  },
  {
   "cell_type": "markdown",
   "id": "7a3655fd",
   "metadata": {},
   "source": [
    "##  Converting Them into a Dataframe"
   ]
  },
  {
   "cell_type": "code",
   "execution_count": 7,
   "id": "5e699cd7",
   "metadata": {},
   "outputs": [
    {
     "data": {
      "text/plain": [
       "Product Name                180\n",
       "Product Price               170\n",
       "Product Discounted Price    180\n",
       "dtype: int64"
      ]
     },
     "execution_count": 7,
     "metadata": {},
     "output_type": "execute_result"
    }
   ],
   "source": [
    "data = pd.DataFrame()\n",
    "data[\"Product Name\"] = pd.Series(Product_name_list)\n",
    "data[\"Product Price\"] = pd.Series(Product_price_list)\n",
    "data[\"Product Discounted Price\"] = pd.Series(Product_Discount_list)\n",
    "data.count()"
   ]
  },
  {
   "cell_type": "markdown",
   "id": "39e3c4a1",
   "metadata": {},
   "source": [
    "## Saving the Dataframe as a csv File"
   ]
  },
  {
   "cell_type": "code",
   "execution_count": 8,
   "id": "098c0e15",
   "metadata": {},
   "outputs": [],
   "source": [
    "data.to_csv(Search_word + \".csv\",index = False)"
   ]
  }
 ],
 "metadata": {
  "kernelspec": {
   "display_name": "Python 3 (ipykernel)",
   "language": "python",
   "name": "python3"
  },
  "language_info": {
   "codemirror_mode": {
    "name": "ipython",
    "version": 3
   },
   "file_extension": ".py",
   "mimetype": "text/x-python",
   "name": "python",
   "nbconvert_exporter": "python",
   "pygments_lexer": "ipython3",
   "version": "3.9.16"
  }
 },
 "nbformat": 4,
 "nbformat_minor": 5
}
