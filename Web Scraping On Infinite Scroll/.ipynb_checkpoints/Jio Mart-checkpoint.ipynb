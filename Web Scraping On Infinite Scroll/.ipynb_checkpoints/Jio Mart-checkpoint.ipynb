{
 "cells": [
  {
   "cell_type": "markdown",
   "id": "2aa2cb56",
   "metadata": {},
   "source": [
    "# Web Scraping in An infinite Scroll Webpage Using Selenium"
   ]
  },
  {
   "cell_type": "markdown",
   "id": "0d459f18",
   "metadata": {},
   "source": [
    "## Importing all the necessary library"
   ]
  },
  {
   "cell_type": "code",
   "execution_count": 1,
   "id": "d92d7cf9",
   "metadata": {},
   "outputs": [],
   "source": [
    "from selenium.webdriver import Chrome,Edge,Firefox,Safari\n",
    "from selenium.webdriver.chrome.service import Service\n",
    "from selenium.webdriver.common.action_chains import ActionChains\n",
    "from selenium.webdriver.common.by import By\n",
    "from selenium.webdriver.common.keys import Keys\n",
    "from selenium.webdriver.support.ui import WebDriverWait\n",
    "from selenium.webdriver.support import expected_conditions as EC\n",
    "import time\n",
    "import pandas as pd"
   ]
  },
  {
   "cell_type": "markdown",
   "id": "71ed12fc",
   "metadata": {},
   "source": [
    "## Getting the Search input From the User"
   ]
  },
  {
   "cell_type": "code",
   "execution_count": 2,
   "id": "53ec7904",
   "metadata": {},
   "outputs": [
    {
     "name": "stdout",
     "output_type": "stream",
     "text": [
      "Enter the Search Word:Biscuits\n",
      "Biscuits\n"
     ]
    }
   ],
   "source": [
    "Search_word = input('Enter the Search Word:')\n",
    "print(Search_word)"
   ]
  },
  {
   "cell_type": "markdown",
   "id": "650d4dff",
   "metadata": {},
   "source": [
    "## Webpage Url and Driver Path"
   ]
  },
  {
   "cell_type": "code",
   "execution_count": 3,
   "id": "4e1509a1",
   "metadata": {},
   "outputs": [],
   "source": [
    "url = \"https://www.jiomart.com/\"\n",
    "driver_path = Service(\"C:\\Program Files (x86)\")\n",
    "\n",
    "browser = Chrome(service=driver_path)\n",
    "\n",
    "browser.get(url)"
   ]
  },
  {
   "cell_type": "markdown",
   "id": "98c27476",
   "metadata": {},
   "source": [
    "## Entering the Search input in the Search Bar"
   ]
  },
  {
   "cell_type": "code",
   "execution_count": 4,
   "id": "685c434f",
   "metadata": {},
   "outputs": [],
   "source": [
    "Search_field_id = \"autocomplete-0-input\"\n",
    "\n",
    "Search_box = browser.find_element(By.ID,Search_field_id)\n",
    "Search_box.clear()\n",
    "Search_box.send_keys(Search_word)\n",
    "Search_box.send_keys(Keys.ENTER)\n"
   ]
  },
  {
   "cell_type": "markdown",
   "id": "e0d0ed37",
   "metadata": {},
   "source": [
    "## Performing Scrolling Action in the Webpage"
   ]
  },
  {
   "cell_type": "code",
   "execution_count": null,
   "id": "03e450cd",
   "metadata": {},
   "outputs": [],
   "source": [
    "time.sleep(3)\n",
    "\n",
    "for i in range(15):\n",
    "    Foot_elem = browser.find_element(By.XPATH,\"//div[@class='footer-top-main']\")\n",
    "    action = ActionChains(browser)\n",
    "    action.move_to_element(Foot_elem).send_keys(Keys.PAGE_UP).perform()\n",
    "    time.sleep(5)\n"
   ]
  },
  {
   "cell_type": "markdown",
   "id": "a5678f16",
   "metadata": {},
   "source": [
    "## Scraping all the Necessary Items from Webpage"
   ]
  },
  {
   "cell_type": "code",
   "execution_count": null,
   "id": "3d313766",
   "metadata": {},
   "outputs": [],
   "source": [
    "Product_name  = browser.find_elements(By.XPATH,\"//div[@class='plp-card-details-name line-clamp jm-body-xs jm-fc-primary-grey-80']\")\n",
    "Product_Price = browser.find_elements(By.XPATH,'//span[@class=\"jm-body-xxs jm-fc-primary-grey-60 line-through jm-mb-xxs\"]')\n",
    "Product_Discount_price = browser.find_elements(By.XPATH,\"//span[@class='jm-heading-xxs jm-mb-xxs']\")\n",
    "\n",
    "Product_name_list = []\n",
    "Product_price_list = []\n",
    "Product_Discount_list = []\n",
    "\n",
    "\n",
    "for name in Product_name:\n",
    "    Product_name_list.append(name.text)\n",
    "\n",
    "for price in Product_Price:\n",
    "    Product_price_list.append(price.text)\n",
    "    \n",
    "for D_Price in Product_Discount_price:\n",
    "    Product_Discount_list.append(D_Price.text)\n",
    "    \n",
    "    \n",
    "print(Product_name_list)\n",
    "print(Product_price_list)\n",
    "print(Product_Discount_list)"
   ]
  },
  {
   "cell_type": "markdown",
   "id": "7a3655fd",
   "metadata": {},
   "source": [
    "##  Converting Them into a Dataframe"
   ]
  },
  {
   "cell_type": "code",
   "execution_count": null,
   "id": "5e699cd7",
   "metadata": {},
   "outputs": [],
   "source": [
    "data = pd.DataFrame()\n",
    "data[\"Product Name\"] = pd.Series(Product_name_list)\n",
    "data[\"Product Price\"] = pd.Series(Product_price_list)\n",
    "data[\"Product Discounted Price\"] = pd.Series(Product_Discount_list)\n",
    "data.count()"
   ]
  },
  {
   "cell_type": "markdown",
   "id": "39e3c4a1",
   "metadata": {},
   "source": [
    "## Saving the Dataframe as a csv File"
   ]
  },
  {
   "cell_type": "code",
   "execution_count": null,
   "id": "098c0e15",
   "metadata": {},
   "outputs": [],
   "source": [
    "data.to_csv(Search_word + \".csv\",index = False)"
   ]
  }
 ],
 "metadata": {
  "kernelspec": {
   "display_name": "Python 3 (ipykernel)",
   "language": "python",
   "name": "python3"
  },
  "language_info": {
   "codemirror_mode": {
    "name": "ipython",
    "version": 3
   },
   "file_extension": ".py",
   "mimetype": "text/x-python",
   "name": "python",
   "nbconvert_exporter": "python",
   "pygments_lexer": "ipython3",
   "version": "3.9.16"
  }
 },
 "nbformat": 4,
 "nbformat_minor": 5
}
